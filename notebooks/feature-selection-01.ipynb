{
 "cells": [
  {
   "cell_type": "markdown",
   "metadata": {},
   "source": [
    "### THE THINGS WE DONE BEFORE"
   ]
  },
  {
   "cell_type": "markdown",
   "metadata": {},
   "source": [
    "### List of Features\n",
    "\n",
    "##### real variables\n",
    " - `'Age_08_04', 'Mfg_Year', 'KM', 'HP', 'Quarterly_Tax', 'Weight', 'Guarantee_Period'`\n",
    "\n",
    "##### cat variables\n",
    " - `'CC', 'Doors', 'Cylinders', 'Gears', 'Mfg_Month', 'Fuel_Type', 'Met_Color', 'Color', 'Automatic', 'Mfr_Guarantee', 'BOVAG_Guarantee', 'ABS', 'Airbag_1', 'Airbag_2', 'Airco', 'Automatic_airco', 'Boardcomputer', 'CD_Player', 'Central_Lock', 'Powered_Windows', 'Power_Steering', 'Radio', 'Mistlamps', 'Sport_Model', 'Backseat_Divider', 'Metallic_Rim', 'Radio_cassette', 'Parking_Assistant', 'Tow_Bar'`\n",
    "\n",
    "\n",
    "### Feature Selection ( Initial Setting )\n",
    "- real variables\n",
    "  - ***Age_08_04 ( not Mfg_Year )***\n",
    "    - 'Age_08_04' 와 'Mfg_Year' 는 서로 강한 선형관계를 가지므로 ( $\\rho$ = -0.98 ) 둘 중 하나를 선택해야. \n",
    "    - 제조년도 ( Mfg_Year ) 보다 연식 ( Age_08_04 ) 이 나중에 회귀식을 설명할 때, 보다 더 명시적이므로 'Age_08_04' 변수를 선택함\n",
    "    - 또한 단위가 `Month` 이므로 `Year` 보다 더 데이터 분포가 세밀함\n",
    "  - ***KM***\n",
    "    - 'Age_08_04' 그리고 'Mfg_Year' 와 어느정도 선형관계를 가지므로 제거해야할 필요가 있음 ($\\rho_{Age_08_04} = 0.51, \\rho_{Mfg_year} = -0.51$)\n",
    "    - 그러나 종속변수 'Price' 와의 Scatter Plot 을 보면 지수함수의 모양을 띄므로, 추후에 $log$ 변환을 통해 다시 사용할 필요 있음\n",
    "    - 이 경우 'Age_08_04' 변수와 '$log$KM' 변수의 설명력을 비교하여 선택할 필요가 있음\n",
    "  - ***HP***\n",
    "    - 'HP' 변수의 Unique values = [90, 192, 110,  97, 116,  98,  69,  72,  86, 107, 73]\n",
    "    - 그러나, 데이터 분포가 지수함수의 모양을 약간 띄므로 이 또한 추후에 $log$ 변환을 통해 다시 체크할 필요 있음\n",
    "  - **Weight**\n",
    "    - 종속변수 'Price' 선형관계를 띄므로 선택\n",
    "    - 또한 'Quarterly_Tax' 와 어느정도 선형관계를 가짐을 알 수 있음 ( $\\rho = 0.59$ )\n",
    "    - 따라서 'Quarterly_Tax' 는 제거하기로 결정\n",
    "  - **Guarantee_Period**\n",
    "    - 'Guarantee_Period' 변수의 Unique values = [3, 6, 12, 13, 18, 20, 24, 28, 36]\n",
    "    - 그러나, 데이터 분포가 한쪽으로 치우쳐져 있어 ( $mode = 3$ ), $log$ 변환을 통해 한번 살펴볼 필요 있음"
   ]
  },
  {
   "cell_type": "markdown",
   "metadata": {},
   "source": [
    "- cat variables\n",
    " - 카테고리 변수는 박스플롯을 통해 명확한 차이가 보이는 변수들을 중점으로 최적의 조합을 찾는 방향으로 진행\n",
    " - SIGNIFICANT DIFFERENCES\n",
    "    - ***Met_Color ( p-val = .0000 )***\n",
    "    - ***Mfr_Guarantee ( p-val = .0000 )***\n",
    "    - ***ABS ( p-val = .0000 )***\n",
    "    - ***Airbag_1 ( p-val = .0023 )***\n",
    "    - ***Airbag_2 ( p-val = .0000 )***\n",
    "    - ***Airco ( p-val = .0000 )***\n",
    "    - ***Automatic_airco ( p-val = .0000 )***\n",
    "    - ***Boardcomputer ( p-val = .0000 )***\n",
    "    - ***CD_Player ( p-val = .0000 )***\n",
    "    - ***Central_Lock ( p-val = .0000 )***\n",
    "    - ***Powered_Windows ( p-val = .0000 )***\n",
    "    - ***Mistlamps ( p-val = .0000 )***\n",
    "    - ***Sport_Model ( p-val = .0000 )***\n",
    "    - ***Backseat_Divider ( p-val = .0096 )***\n",
    "    - ***Metallic_Rim ( p-val = .0000 )***\n",
    "    - ***Tow_Bar ( p-val = .0000 )***\n",
    " - NO SIGNIFICANT BUT NEED TO DOUBLE CHECK\n",
    "    - ***Parking_Assistant*** ( There is significant gap when you see the box-plot )"
   ]
  },
  {
   "cell_type": "code",
   "execution_count": null,
   "metadata": {
    "collapsed": true
   },
   "outputs": [],
   "source": []
  }
 ],
 "metadata": {
  "kernelspec": {
   "display_name": "Python 3",
   "language": "python",
   "name": "python3"
  },
  "language_info": {
   "codemirror_mode": {
    "name": "ipython",
    "version": 3
   },
   "file_extension": ".py",
   "mimetype": "text/x-python",
   "name": "python",
   "nbconvert_exporter": "python",
   "pygments_lexer": "ipython3",
   "version": "3.5.1"
  }
 },
 "nbformat": 4,
 "nbformat_minor": 2
}
