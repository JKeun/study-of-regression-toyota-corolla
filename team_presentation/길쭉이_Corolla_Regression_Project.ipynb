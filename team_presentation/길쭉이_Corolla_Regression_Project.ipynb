{
 "cells": [
  {
   "cell_type": "code",
   "execution_count": 1,
   "metadata": {
    "collapsed": true
   },
   "outputs": [],
   "source": [
    "%matplotlib inline\n",
    "import numpy as np\n",
    "import pandas as pd\n",
    "import scipy.stats as stats\n",
    "import matplotlib.pyplot as plt\n",
    "import sklearn\n",
    "import statsmodels.formula.api as sm\n",
    "from sklearn import linear_model\n",
    "from sklearn.model_selection import cross_val_score\n",
    "from sklearn.model_selection import train_test_split\n",
    "from sklearn import metrics\n",
    "from statsmodels.sandbox.regression.predstd import wls_prediction_std"
   ]
  },
  {
   "cell_type": "code",
   "execution_count": 2,
   "metadata": {
    "collapsed": true
   },
   "outputs": [
    {
     "ename": "OSError",
     "evalue": "File b'train.csv' does not exist",
     "output_type": "error",
     "traceback": [
      "\u001b[0;31m---------------------------------------------------------------------------\u001b[0m",
      "\u001b[0;31mOSError\u001b[0m                                   Traceback (most recent call last)",
      "\u001b[0;32m<ipython-input-2-985e2a28050e>\u001b[0m in \u001b[0;36m<module>\u001b[0;34m()\u001b[0m\n\u001b[0;32m----> 1\u001b[0;31m \u001b[0mcorolla\u001b[0m \u001b[0;34m=\u001b[0m \u001b[0mpd\u001b[0m\u001b[0;34m.\u001b[0m\u001b[0mread_csv\u001b[0m\u001b[0;34m(\u001b[0m\u001b[0;34m'train.csv'\u001b[0m\u001b[0;34m)\u001b[0m\u001b[0;34m\u001b[0m\u001b[0m\n\u001b[0m\u001b[1;32m      2\u001b[0m \u001b[0mcorolla_edit\u001b[0m \u001b[0;34m=\u001b[0m \u001b[0mpd\u001b[0m\u001b[0;34m.\u001b[0m\u001b[0mread_csv\u001b[0m\u001b[0;34m(\u001b[0m\u001b[0;34m'train_edit.csv'\u001b[0m\u001b[0;34m)\u001b[0m\u001b[0;34m\u001b[0m\u001b[0m\n",
      "\u001b[0;32m/Users/jkpark/.pyenv/versions/3.5.1/envs/dss/lib/python3.5/site-packages/pandas/io/parsers.py\u001b[0m in \u001b[0;36mparser_f\u001b[0;34m(filepath_or_buffer, sep, delimiter, header, names, index_col, usecols, squeeze, prefix, mangle_dupe_cols, dtype, engine, converters, true_values, false_values, skipinitialspace, skiprows, skipfooter, nrows, na_values, keep_default_na, na_filter, verbose, skip_blank_lines, parse_dates, infer_datetime_format, keep_date_col, date_parser, dayfirst, iterator, chunksize, compression, thousands, decimal, lineterminator, quotechar, quoting, escapechar, comment, encoding, dialect, tupleize_cols, error_bad_lines, warn_bad_lines, skip_footer, doublequote, delim_whitespace, as_recarray, compact_ints, use_unsigned, low_memory, buffer_lines, memory_map, float_precision)\u001b[0m\n\u001b[1;32m    560\u001b[0m                     skip_blank_lines=skip_blank_lines)\n\u001b[1;32m    561\u001b[0m \u001b[0;34m\u001b[0m\u001b[0m\n\u001b[0;32m--> 562\u001b[0;31m         \u001b[0;32mreturn\u001b[0m \u001b[0m_read\u001b[0m\u001b[0;34m(\u001b[0m\u001b[0mfilepath_or_buffer\u001b[0m\u001b[0;34m,\u001b[0m \u001b[0mkwds\u001b[0m\u001b[0;34m)\u001b[0m\u001b[0;34m\u001b[0m\u001b[0m\n\u001b[0m\u001b[1;32m    563\u001b[0m \u001b[0;34m\u001b[0m\u001b[0m\n\u001b[1;32m    564\u001b[0m     \u001b[0mparser_f\u001b[0m\u001b[0;34m.\u001b[0m\u001b[0m__name__\u001b[0m \u001b[0;34m=\u001b[0m \u001b[0mname\u001b[0m\u001b[0;34m\u001b[0m\u001b[0m\n",
      "\u001b[0;32m/Users/jkpark/.pyenv/versions/3.5.1/envs/dss/lib/python3.5/site-packages/pandas/io/parsers.py\u001b[0m in \u001b[0;36m_read\u001b[0;34m(filepath_or_buffer, kwds)\u001b[0m\n\u001b[1;32m    313\u001b[0m \u001b[0;34m\u001b[0m\u001b[0m\n\u001b[1;32m    314\u001b[0m     \u001b[0;31m# Create the parser.\u001b[0m\u001b[0;34m\u001b[0m\u001b[0;34m\u001b[0m\u001b[0m\n\u001b[0;32m--> 315\u001b[0;31m     \u001b[0mparser\u001b[0m \u001b[0;34m=\u001b[0m \u001b[0mTextFileReader\u001b[0m\u001b[0;34m(\u001b[0m\u001b[0mfilepath_or_buffer\u001b[0m\u001b[0;34m,\u001b[0m \u001b[0;34m**\u001b[0m\u001b[0mkwds\u001b[0m\u001b[0;34m)\u001b[0m\u001b[0;34m\u001b[0m\u001b[0m\n\u001b[0m\u001b[1;32m    316\u001b[0m \u001b[0;34m\u001b[0m\u001b[0m\n\u001b[1;32m    317\u001b[0m     \u001b[0;32mif\u001b[0m \u001b[0;34m(\u001b[0m\u001b[0mnrows\u001b[0m \u001b[0;32mis\u001b[0m \u001b[0;32mnot\u001b[0m \u001b[0;32mNone\u001b[0m\u001b[0;34m)\u001b[0m \u001b[0;32mand\u001b[0m \u001b[0;34m(\u001b[0m\u001b[0mchunksize\u001b[0m \u001b[0;32mis\u001b[0m \u001b[0;32mnot\u001b[0m \u001b[0;32mNone\u001b[0m\u001b[0;34m)\u001b[0m\u001b[0;34m:\u001b[0m\u001b[0;34m\u001b[0m\u001b[0m\n",
      "\u001b[0;32m/Users/jkpark/.pyenv/versions/3.5.1/envs/dss/lib/python3.5/site-packages/pandas/io/parsers.py\u001b[0m in \u001b[0;36m__init__\u001b[0;34m(self, f, engine, **kwds)\u001b[0m\n\u001b[1;32m    643\u001b[0m             \u001b[0mself\u001b[0m\u001b[0;34m.\u001b[0m\u001b[0moptions\u001b[0m\u001b[0;34m[\u001b[0m\u001b[0;34m'has_index_names'\u001b[0m\u001b[0;34m]\u001b[0m \u001b[0;34m=\u001b[0m \u001b[0mkwds\u001b[0m\u001b[0;34m[\u001b[0m\u001b[0;34m'has_index_names'\u001b[0m\u001b[0;34m]\u001b[0m\u001b[0;34m\u001b[0m\u001b[0m\n\u001b[1;32m    644\u001b[0m \u001b[0;34m\u001b[0m\u001b[0m\n\u001b[0;32m--> 645\u001b[0;31m         \u001b[0mself\u001b[0m\u001b[0;34m.\u001b[0m\u001b[0m_make_engine\u001b[0m\u001b[0;34m(\u001b[0m\u001b[0mself\u001b[0m\u001b[0;34m.\u001b[0m\u001b[0mengine\u001b[0m\u001b[0;34m)\u001b[0m\u001b[0;34m\u001b[0m\u001b[0m\n\u001b[0m\u001b[1;32m    646\u001b[0m \u001b[0;34m\u001b[0m\u001b[0m\n\u001b[1;32m    647\u001b[0m     \u001b[0;32mdef\u001b[0m \u001b[0mclose\u001b[0m\u001b[0;34m(\u001b[0m\u001b[0mself\u001b[0m\u001b[0;34m)\u001b[0m\u001b[0;34m:\u001b[0m\u001b[0;34m\u001b[0m\u001b[0m\n",
      "\u001b[0;32m/Users/jkpark/.pyenv/versions/3.5.1/envs/dss/lib/python3.5/site-packages/pandas/io/parsers.py\u001b[0m in \u001b[0;36m_make_engine\u001b[0;34m(self, engine)\u001b[0m\n\u001b[1;32m    797\u001b[0m     \u001b[0;32mdef\u001b[0m \u001b[0m_make_engine\u001b[0m\u001b[0;34m(\u001b[0m\u001b[0mself\u001b[0m\u001b[0;34m,\u001b[0m \u001b[0mengine\u001b[0m\u001b[0;34m=\u001b[0m\u001b[0;34m'c'\u001b[0m\u001b[0;34m)\u001b[0m\u001b[0;34m:\u001b[0m\u001b[0;34m\u001b[0m\u001b[0m\n\u001b[1;32m    798\u001b[0m         \u001b[0;32mif\u001b[0m \u001b[0mengine\u001b[0m \u001b[0;34m==\u001b[0m \u001b[0;34m'c'\u001b[0m\u001b[0;34m:\u001b[0m\u001b[0;34m\u001b[0m\u001b[0m\n\u001b[0;32m--> 799\u001b[0;31m             \u001b[0mself\u001b[0m\u001b[0;34m.\u001b[0m\u001b[0m_engine\u001b[0m \u001b[0;34m=\u001b[0m \u001b[0mCParserWrapper\u001b[0m\u001b[0;34m(\u001b[0m\u001b[0mself\u001b[0m\u001b[0;34m.\u001b[0m\u001b[0mf\u001b[0m\u001b[0;34m,\u001b[0m \u001b[0;34m**\u001b[0m\u001b[0mself\u001b[0m\u001b[0;34m.\u001b[0m\u001b[0moptions\u001b[0m\u001b[0;34m)\u001b[0m\u001b[0;34m\u001b[0m\u001b[0m\n\u001b[0m\u001b[1;32m    800\u001b[0m         \u001b[0;32melse\u001b[0m\u001b[0;34m:\u001b[0m\u001b[0;34m\u001b[0m\u001b[0m\n\u001b[1;32m    801\u001b[0m             \u001b[0;32mif\u001b[0m \u001b[0mengine\u001b[0m \u001b[0;34m==\u001b[0m \u001b[0;34m'python'\u001b[0m\u001b[0;34m:\u001b[0m\u001b[0;34m\u001b[0m\u001b[0m\n",
      "\u001b[0;32m/Users/jkpark/.pyenv/versions/3.5.1/envs/dss/lib/python3.5/site-packages/pandas/io/parsers.py\u001b[0m in \u001b[0;36m__init__\u001b[0;34m(self, src, **kwds)\u001b[0m\n\u001b[1;32m   1211\u001b[0m         \u001b[0mkwds\u001b[0m\u001b[0;34m[\u001b[0m\u001b[0;34m'allow_leading_cols'\u001b[0m\u001b[0;34m]\u001b[0m \u001b[0;34m=\u001b[0m \u001b[0mself\u001b[0m\u001b[0;34m.\u001b[0m\u001b[0mindex_col\u001b[0m \u001b[0;32mis\u001b[0m \u001b[0;32mnot\u001b[0m \u001b[0;32mFalse\u001b[0m\u001b[0;34m\u001b[0m\u001b[0m\n\u001b[1;32m   1212\u001b[0m \u001b[0;34m\u001b[0m\u001b[0m\n\u001b[0;32m-> 1213\u001b[0;31m         \u001b[0mself\u001b[0m\u001b[0;34m.\u001b[0m\u001b[0m_reader\u001b[0m \u001b[0;34m=\u001b[0m \u001b[0m_parser\u001b[0m\u001b[0;34m.\u001b[0m\u001b[0mTextReader\u001b[0m\u001b[0;34m(\u001b[0m\u001b[0msrc\u001b[0m\u001b[0;34m,\u001b[0m \u001b[0;34m**\u001b[0m\u001b[0mkwds\u001b[0m\u001b[0;34m)\u001b[0m\u001b[0;34m\u001b[0m\u001b[0m\n\u001b[0m\u001b[1;32m   1214\u001b[0m \u001b[0;34m\u001b[0m\u001b[0m\n\u001b[1;32m   1215\u001b[0m         \u001b[0;31m# XXX\u001b[0m\u001b[0;34m\u001b[0m\u001b[0;34m\u001b[0m\u001b[0m\n",
      "\u001b[0;32mpandas/parser.pyx\u001b[0m in \u001b[0;36mpandas.parser.TextReader.__cinit__ (pandas/parser.c:3427)\u001b[0;34m()\u001b[0m\n",
      "\u001b[0;32mpandas/parser.pyx\u001b[0m in \u001b[0;36mpandas.parser.TextReader._setup_parser_source (pandas/parser.c:6861)\u001b[0;34m()\u001b[0m\n",
      "\u001b[0;31mOSError\u001b[0m: File b'train.csv' does not exist"
     ]
    }
   ],
   "source": [
    "corolla = pd.read_csv('train.csv')\n",
    "corolla_edit = pd.read_csv('train_edit.csv')"
   ]
  },
  {
   "cell_type": "code",
   "execution_count": null,
   "metadata": {
    "collapsed": true
   },
   "outputs": [],
   "source": [
    "def ttest():\n",
    "    true_list = []\n",
    "    wilcox = []\n",
    "    ttestlst = []\n",
    "    for i in keys:\n",
    "        normal_test1 = stats.shapiro(corolla.loc[corolla[i] == 0].Price)\n",
    "        normal_test2 = stats.shapiro(corolla.loc[corolla[i] == 1].Price)\n",
    "        if normal_test1[1] > 0.05 and normal_test2[1] > 0.05:\n",
    "            reg = stats.levene(corolla.loc[corolla[i] == 0].Price,\n",
    "                           corolla.loc[corolla[i] == 1].Price,\n",
    "                           center = 'mean')\n",
    "            if reg.pvalue > 0.05:\n",
    "                ttest = stats.ttest_ind(corolla.loc[corolla[i] == 0].Price,\n",
    "                                       corolla.loc[corolla[i] == 1].Price,\n",
    "                                       equal_var=True)\n",
    "            else:\n",
    "                ttest = stats.ttest_ind(corolla.loc[corolla[i] == 0].Price,\n",
    "                                       corolla.loc[corolla[i] == 1].Price,\n",
    "                                       equal_var=False)\n",
    "            if ttest.pvalue < 0.05:\n",
    "                true_list.append(i)\n",
    "                ttestlst.append(i)\n",
    "        else:\n",
    "            ranksum = stats.ranksums(corolla.loc[corolla[i] == 0].Price,\n",
    "                                       corolla.loc[corolla[i] == 1].Price)\n",
    "            if ranksum.pvalue < 0.05:\n",
    "                true_list.append(i)\n",
    "                wilcox.append(i)\n",
    "    print \n",
    "    print '독립2표본검정 통과:', ttestlst\n",
    "    print\n",
    "    print '순위합검정 통과:', wilcox\n",
    "    return ''"
   ]
  },
  {
   "cell_type": "markdown",
   "metadata": {},
   "source": [
    "# 길쭉이 회귀분석"
   ]
  },
  {
   "cell_type": "markdown",
   "metadata": {},
   "source": [
    "### 길쭉이의 목표\n",
    "    - 변수는 10개 이하로\n",
    "    - 빠르게 실패하고 개선하자"
   ]
  },
  {
   "cell_type": "markdown",
   "metadata": {},
   "source": [
    "## Step 1. Domain\n",
    "    - 알고 있는 내용을 먼저"
   ]
  },
  {
   "cell_type": "markdown",
   "metadata": {},
   "source": [
    "Blah blah.. **Parking asssitant랑 ABS, Boardcomputer 이런게 있으면 가격이 올라!**"
   ]
  },
  {
   "cell_type": "code",
   "execution_count": null,
   "metadata": {
    "collapsed": true,
    "scrolled": false
   },
   "outputs": [],
   "source": [
    "reg = sm.ols(formula = \"Price ~ Age_08_04 + KM + ABS + Parking_Assistant +Boardcomputer\", data = corolla).fit()\n",
    "print reg.summary()"
   ]
  },
  {
   "cell_type": "markdown",
   "metadata": {},
   "source": [
    "    - but... negative Coef\n",
    "    - 아~ 2004년 이라서 그런가? 이거랑 이거랑 해보자...\n",
    "\n",
    "### 선정해둔 변수를 쓰기 위해 끼워맞추기를 하고 있음을 깨달음\n",
    "<br>\n",
    "<br>\n",
    "<br>"
   ]
  },
  {
   "cell_type": "markdown",
   "metadata": {},
   "source": [
    "## Step 2. Simple is Best\n",
    "\n",
    "    - 배운거 먼저 써보자\n",
    "    - 결과를 보고 생각하자\n",
    "    - 모든 변수들의 단순회귀를 돌려보자!"
   ]
  },
  {
   "cell_type": "markdown",
   "metadata": {},
   "source": [
    "#### 2 - 1. 상관분석 (독립2표본검정, 윌콕슨의 순위합검정)\n",
    "    - 0, 1로 나뉘어진 변수부터"
   ]
  },
  {
   "cell_type": "code",
   "execution_count": null,
   "metadata": {
    "collapsed": true
   },
   "outputs": [],
   "source": [
    "keys = ['Met_Color', 'Automatic', 'Mfr_Guarantee', 'BOVAG_Guarantee','ABS', 'Airbag_1', 'Airbag_2', 'Airco', 'Automatic_airco',\\\n",
    "        'Boardcomputer', 'CD_Player', 'Central_Lock', 'Powered_Windows', 'Power_Steering', 'Radio', 'Mistlamps', 'Sport_Model',\\\n",
    "        'Backseat_Divider', 'Metallic_Rim', 'Radio_cassette', 'Parking_Assistant', 'Tow_Bar']"
   ]
  },
  {
   "cell_type": "code",
   "execution_count": null,
   "metadata": {
    "collapsed": true
   },
   "outputs": [],
   "source": [
    "print ttest()"
   ]
  },
  {
   "cell_type": "markdown",
   "metadata": {},
   "source": [
    "#### 2 - 2. 더미변수 상관분석 (ANOVA, Kruskal)\n",
    "    - 이어서 다른 CatVal도 검정하고자 함"
   ]
  },
  {
   "cell_type": "code",
   "execution_count": null,
   "metadata": {
    "collapsed": true,
    "scrolled": false
   },
   "outputs": [],
   "source": [
    "keys_shapiro = ['Fuel_Type', 'CC', 'HP', 'Color', 'Quarterly_Tax']\n",
    "items = []\n",
    "    \n",
    "for j in keys_shapiro:\n",
    "    for i in corolla[j]:\n",
    "        items.append(i)\n",
    "    items = list(set(items))\n",
    "    print j, items\n",
    "    for x in items:\n",
    "        try:\n",
    "            sha = stats.shapiro(corolla.loc[corolla[j] == x].Price)\n",
    "        except:\n",
    "            sha = 'is not accept sharpiro'\n",
    "        if sha[1] > 0.05:\n",
    "            stat = 'True'\n",
    "        else:\n",
    "            stat = 'False'\n",
    "        print j, x, sha, stat\n",
    "    print \n",
    "    items = []"
   ]
  },
  {
   "cell_type": "markdown",
   "metadata": {},
   "source": [
    "    - 하지만, 모두 정규성을 만족하지 못하여 ANOVA는 하지 못하고\n",
    "    - Kruskal 검정을 함"
   ]
  },
  {
   "cell_type": "code",
   "execution_count": null,
   "metadata": {
    "collapsed": true
   },
   "outputs": [],
   "source": [
    "krus_Fuel = stats.kruskal(corolla.loc[corolla[\"Fuel_Type\"] == 'Petrol'].Price, \n",
    "             corolla.loc[corolla[\"Fuel_Type\"] == 'Diesel'].Price,\n",
    "              corolla.loc[corolla[\"Fuel_Type\"] == 'CNG'].Price)\n",
    "\n",
    "krus_CC = stats.kruskal(corolla.loc[corolla[\"CC\"] == 1600].Price,\n",
    "               corolla.loc[corolla[\"CC\"] == 1800].Price,\n",
    "               corolla.loc[corolla[\"CC\"] == 1995].Price,\n",
    "               corolla.loc[corolla[\"CC\"] == 1900].Price,\n",
    "               corolla.loc[corolla[\"CC\"] == 2000].Price,\n",
    "               corolla.loc[corolla[\"CC\"] == 1587].Price,\n",
    "               corolla.loc[corolla[\"CC\"] == 1300].Price,\n",
    "               corolla.loc[corolla[\"CC\"] == 1398].Price,\n",
    "               corolla.loc[corolla[\"CC\"] == 1400].Price,\n",
    "               corolla.loc[corolla[\"CC\"] == 1332].Price,\n",
    "               corolla.loc[corolla[\"CC\"] == 1598].Price)\n",
    "\n",
    "krus_HP = stats.kruskal(corolla.loc[corolla[\"HP\"] == 192].Price, \n",
    "               corolla.loc[corolla[\"HP\"] == 97].Price,\n",
    "               corolla.loc[corolla[\"HP\"] == 98].Price,\n",
    "               corolla.loc[corolla[\"HP\"] == 69].Price,\n",
    "               corolla.loc[corolla[\"HP\"] == 72].Price,\n",
    "               corolla.loc[corolla[\"HP\"] == 73].Price,\n",
    "               corolla.loc[corolla[\"HP\"] == 107].Price,\n",
    "               corolla.loc[corolla[\"HP\"] == 110].Price,\n",
    "               corolla.loc[corolla[\"HP\"] == 116].Price,\n",
    "               corolla.loc[corolla[\"HP\"] == 86].Price,\n",
    "               corolla.loc[corolla[\"HP\"] == 90].Price)\n",
    "\n",
    "krus_Color = stats.kruskal(corolla.loc[corolla[\"Color\"] == 'Blue'].Price,\n",
    "               corolla.loc[corolla[\"Color\"] == 'Grey'].Price,\n",
    "               corolla.loc[corolla[\"Color\"] == 'Yellow'].Price,\n",
    "               corolla.loc[corolla[\"Color\"] == 'Green'].Price,\n",
    "               corolla.loc[corolla[\"Color\"] == 'Beige'].Price,\n",
    "               corolla.loc[corolla[\"Color\"] == 'Violet'].Price,\n",
    "               corolla.loc[corolla[\"Color\"] == 'Black'].Price,\n",
    "               corolla.loc[corolla[\"Color\"] == 'White'].Price,\n",
    "               corolla.loc[corolla[\"Color\"] == 'Silver'].Price,\n",
    "               corolla.loc[corolla[\"Color\"] == 'Red'].Price)\n",
    "\n",
    "krus_Tax =  stats.kruskal(corolla.loc[corolla[\"Quarterly_Tax\"] == 64].Price,\n",
    "               corolla.loc[corolla[\"Quarterly_Tax\"] == 163].Price,\n",
    "               corolla.loc[corolla[\"Quarterly_Tax\"] == 100].Price,\n",
    "               corolla.loc[corolla[\"Quarterly_Tax\"] == 69].Price,\n",
    "               corolla.loc[corolla[\"Quarterly_Tax\"] == 72].Price,\n",
    "               corolla.loc[corolla[\"Quarterly_Tax\"] == 234].Price,\n",
    "               corolla.loc[corolla[\"Quarterly_Tax\"] == 40].Price,\n",
    "               corolla.loc[corolla[\"Quarterly_Tax\"] == 210].Price,\n",
    "               corolla.loc[corolla[\"Quarterly_Tax\"] == 19].Price,\n",
    "               corolla.loc[corolla[\"Quarterly_Tax\"] == 85].Price,\n",
    "               corolla.loc[corolla[\"Quarterly_Tax\"] == 185].Price,\n",
    "               corolla.loc[corolla[\"Quarterly_Tax\"] == 283].Price,\n",
    "               corolla.loc[corolla[\"Quarterly_Tax\"] == 197].Price)\n",
    "\n",
    "print 'Fuel_Type:', krus_Fuel.pvalue\n",
    "print 'CC       :', krus_CC.pvalue\n",
    "print 'HP       :', krus_HP.pvalue\n",
    "print 'Color    :', krus_Color.pvalue\n",
    "print 'Tax      :', krus_Tax.pvalue"
   ]
  },
  {
   "cell_type": "markdown",
   "metadata": {},
   "source": [
    "최종적으로 상관이 있다고 보여지는 CatVal은 총 21가지\n",
    "\n",
    "['Met_Color', 'Automatic', 'Mfr_Guarantee', 'BOVAG_Guarantee', 'ABS', 'Airbag_1', 'Airbag_2', 'Airco', 'Automatic_airco', 'Boardcomputer', 'CD_Player', 'Central_Lock', 'Powered_Windows', 'Mistlamps', 'Backseat_Divider', 'Metallic_Rim', 'Tow_Bar', 'CC',\n",
    "'HP', 'Color', 'Tax']"
   ]
  },
  {
   "cell_type": "markdown",
   "metadata": {},
   "source": [
    "## Step 3. 돌려보자 회귀"
   ]
  },
  {
   "cell_type": "code",
   "execution_count": null,
   "metadata": {
    "collapsed": true,
    "scrolled": true
   },
   "outputs": [],
   "source": [
    "keys = []\n",
    "for i in corolla.keys():\n",
    "    keys.append(i)\n",
    "keys = keys[3:]\n",
    "\n",
    "for i in keys:\n",
    "    reg = sm.ols(\"Price ~ \" + i, data = corolla).fit()\n",
    "    print i\n",
    "    print 'P-val : {}, R-square : {}'.format(reg.pvalues, reg.rsquared)\n",
    "    print"
   ]
  },
  {
   "cell_type": "markdown",
   "metadata": {},
   "source": [
    "### R-Squared 의 늪"
   ]
  },
  {
   "cell_type": "code",
   "execution_count": null,
   "metadata": {
    "collapsed": true
   },
   "outputs": [],
   "source": [
    "# Set 1, 8개 변수\n",
    "result1 = sm.ols(formula = 'Price ~ \\\n",
    "Mfg_Year + KM + Quarterly_Tax + Weight + Automatic_airco + Boardcomputer +\\\n",
    "CD_Player + Sport_Model', data = corolla).fit()\n",
    "# Set 2, 9개 변수\n",
    "result2 = sm.ols(formula = 'Price ~ \\\n",
    "Age_08_04 + KM + HP + Quarterly_Tax + Weight + ABS + Automatic_airco + \\\n",
    "Powered_Windows + Sport_Model', data = corolla).fit()\n",
    "# Set 3, 12개 변수\n",
    "result3 = sm.ols(formula = 'Price ~ \\\n",
    "Age_08_04 + KM + HP + Doors + Quarterly_Tax + Weight + Automatic_airco + \\\n",
    "Powered_Windows + Sport_Model + Backseat_Divider + Metallic_Rim', data = corolla).fit()\n",
    "# Set 4, 13개 변수\n",
    "result4 = sm.ols(formula = 'Price ~ \\\n",
    "Age_08_04 + KM + HP + Doors + Quarterly_Tax + Weight + Automatic_airco + \\\n",
    "CD_Player + Powered_Windows + Sport_Model + Backseat_Divider + Metallic_Rim', data = corolla).fit()\n",
    "# Set 5, 14개 변수\n",
    "result5 = sm.ols(formula = 'Price ~ \\\n",
    "Mfg_Year + KM + Automatic + Weight + Mfr_Guarantee + ABS + Airco + Automatic_airco +\\\n",
    "Boardcomputer + CD_Player + Central_Lock + Powered_Windows + Mistlamps + Metallic_Rim', data = corolla).fit()\n",
    "# Set 6, 16개 변수\n",
    "result6 = sm.ols(formula = 'Price ~ \\\n",
    "Mfg_Year + KM + Color_Grey + Color_White + Automatic + Weight + Mfr_Guarantee +\\\n",
    "ABS + Airbag_2 + Airco + Automatic_airco + Boardcomputer + CD_Player + Powered_Windows +\\\n",
    "Sport_Model + Metallic_Rim', data = corolla_edit).fit()\n",
    "# Set 7, 33개 변수\n",
    "result7 = sm.ols(formula = 'Price ~ \\\n",
    "Age_08_04 + Mfg_Month + KM + Fuel_Petrol + Fuel_Diesel + HP + Color_Blue + Color_Silver +\\\n",
    "Color_Black + Color_Red + Color_Grey + Color_Green + Color_White + Color_Yellow + Color_Violet +\\\n",
    "Automatic + CC + Doors + Quarterly_Tax + Weight + Mfr_Guarantee + BOVAG_Guarantee + Guarantee_Period +\\\n",
    "ABS + Airbag_2 + Airco + Automatic_airco + Boardcomputer + CD_Player + Powered_Windows +\\\n",
    "Sport_Model + Metallic_Rim + Tow_Bar', data = corolla_edit).fit()\n",
    "\n",
    "print result1.rsquared_adj, '8 Variables'\n",
    "print result2.rsquared_adj, '9 Variables'\n",
    "print result3.rsquared_adj, '12 Variables'\n",
    "print result4.rsquared_adj, '13 Variables'\n",
    "print result5.rsquared_adj, '14 Variables'\n",
    "print result6.rsquared_adj, '16 Variables'\n",
    "print result7.rsquared_adj, '33 Variables'"
   ]
  },
  {
   "cell_type": "code",
   "execution_count": null,
   "metadata": {
    "collapsed": true
   },
   "outputs": [],
   "source": [
    "result8 = sm.ols(formula = 'Price ~ \\\n",
    "Age_08_04 + Mfg_Month + KM + Fuel_Petrol + Fuel_Diesel + HP + Met_Color + Color_Blue + Color_Silver +\\\n",
    "Color_Black + Color_Red + Color_Grey + Color_Green + Color_White + Color_Yellow + Color_Violet +\\\n",
    "Automatic + CC + Doors + Gears + Quarterly_Tax + Weight + Mfr_Guarantee + BOVAG_Guarantee + Guarantee_Period +\\\n",
    "ABS + Airbag_1 + Airbag_2 + Airco + Automatic_airco + Boardcomputer + CD_Player + Central_Lock + Powered_Windows +\\\n",
    "Power_Steering + Radio + Mistlamps + Sport_Model + Backseat_Divider + Metallic_Rim + Radio_cassette +\\\n",
    "Parking_Assistant + Tow_Bar', data = corolla_edit).fit()\n",
    "\n",
    "print result8.rsquared, '43 Variables'"
   ]
  },
  {
   "cell_type": "markdown",
   "metadata": {},
   "source": [
    "## Step 4. Back to Basic\n",
    "    - 기존의 모델 중 변수가 10개 이하인 것들로만 회귀분석 진행"
   ]
  },
  {
   "cell_type": "code",
   "execution_count": null,
   "metadata": {
    "collapsed": true
   },
   "outputs": [],
   "source": [
    "model = linear_model.LinearRegression()\n",
    "car_target = corolla['Price'].copy()"
   ]
  },
  {
   "cell_type": "code",
   "execution_count": null,
   "metadata": {
    "collapsed": true
   },
   "outputs": [],
   "source": [
    "attributes1 = ['Age_08_04', 'KM', 'HP', 'Quarterly_Tax', 'Weight', 'ABS', 'Automatic_airco', 'Powered_Windows', 'Sport_Model']\n",
    "attributes2 = ['Age_08_04', 'KM', 'Quarterly_Tax', 'Weight', 'Automatic_airco', 'Boardcomputer', 'CD_Player', 'Sport_Model']\n",
    "attributes3 = ['Age_08_04', 'KM', 'Weight', 'Automatic_airco', 'CD_Player']\n",
    "attributes4 = ['Mfg_Year', 'KM', 'Quarterly_Tax', 'Weight', 'Automatic_airco', 'Boardcomputer', 'CD_Player', 'Sport_Model']\n",
    "attributes5 = ['Mfg_Year', 'KM', 'Weight', 'Automatic_airco', 'Boardcomputer', 'CD_Player', 'Sport_Model']\n",
    "attributes6 = ['Mfg_Year', 'KM', 'HP', 'Weight', 'ABS', 'Automatic_airco', 'Central_Lock']\n",
    "attributes7 = ['Age_08_04', 'KM', 'HP', 'Quarterly_Tax', 'Weight', 'ABS', 'Automatic_airco', 'Powered_Windows']\n",
    "attributes8 = ['Mfg_Year', 'Boardcomputer', 'Automatic_airco', 'Weight', 'CD_Player', 'Airco', 'Powered_Windows', 'HP', 'Age_08_04', 'KM']\n",
    "attributes = [attributes1, attributes2, attributes3, attributes4, attributes5, attributes6, attributes7, attributes8]"
   ]
  },
  {
   "cell_type": "code",
   "execution_count": null,
   "metadata": {
    "collapsed": true
   },
   "outputs": [],
   "source": [
    "def Split(attributes, model):\n",
    "    n = 0\n",
    "    for i in range(len(attributes)):\n",
    "        attribute = attributes[i]\n",
    "        X = attribute\n",
    "        y = corolla['Price']\n",
    "        X = corolla[X]\n",
    "        X_train, X_test, y_train, y_test = train_test_split(X, y, random_state = 1)\n",
    "        n += 1\n",
    "        var = len(attribute)\n",
    "        ScoreCheck(X_train, X_test, y_train, y_test, n, var)\n",
    "    return ''\n",
    "\n",
    "def ScoreCheck(X_train, X_test, y_train, y_test, n, var):\n",
    "    model = linear_model.LinearRegression()\n",
    "    model.fit(X_train, y_train)\n",
    "\n",
    "    predict_y = model.predict(X_test)\n",
    "\n",
    "    # rmse\n",
    "    print\n",
    "    print 'Set',n,':', var, 'variables'\n",
    "    print np.sqrt(metrics.mean_squared_error(predict_y, y_test))\n",
    "    print model.score(X_test, y_test)\n",
    "    \n",
    "print Split(attributes, model)"
   ]
  },
  {
   "cell_type": "markdown",
   "metadata": {},
   "source": [
    "    - Set 1, Set 6, Set 7, Set 8 을 최종후보로 선정"
   ]
  },
  {
   "cell_type": "markdown",
   "metadata": {
    "collapsed": true
   },
   "source": [
    "### 다중공선성 확인"
   ]
  },
  {
   "cell_type": "code",
   "execution_count": null,
   "metadata": {
    "collapsed": true
   },
   "outputs": [],
   "source": [
    "attributes1_data = corolla.loc[:, ['Price', 'Age_08_04', 'KM', 'HP', 'Quarterly_Tax', 'Weight', 'ABS', 'Automatic_airco', 'Powered_Windows', 'Sport_Model']]\n",
    "attributes6_data = corolla.loc[:, ['Price', 'Mfg_Year', 'KM', 'HP', 'Weight', 'ABS', 'Automatic_airco', 'Central_Lock']]\n",
    "attributes7_data = corolla.loc[:, ['Price', 'Age_08_04', 'KM', 'HP', 'Quarterly_Tax', 'Weight', 'ABS', 'Automatic_airco', 'Powered_Windows']]\n",
    "attributes8_data = corolla.loc[:, ['Price', 'Mfg_Year', 'Boardcomputer', 'Automatic_airco', 'Weight', 'CD_Player', 'Airco', 'Powered_Windows', 'HP', 'Age_08_04', 'KM']]\n",
    "attributes_data = [attributes1_data, attributes6_data, attributes7_data, attributes8_data]"
   ]
  },
  {
   "cell_type": "code",
   "execution_count": null,
   "metadata": {
    "collapsed": true,
    "scrolled": false
   },
   "outputs": [],
   "source": [
    "def vif_cal(input_data, dependent_col):\n",
    "    x_vars=input_data.drop([dependent_col], axis=1)\n",
    "    xvar_names=x_vars.columns\n",
    "    for i in range(0,xvar_names.shape[0]):\n",
    "        y=x_vars[xvar_names[i]] \n",
    "        x=x_vars[xvar_names.drop(xvar_names[i])]\n",
    "        rsq=sm.ols(formula=\"y~x\", data=x_vars).fit().rsquared  \n",
    "        vif=round(1/(1-rsq),2)\n",
    "        print(xvar_names[i], \" VIF = \" , vif)\n",
    "\n",
    "n = 1\n",
    "for i in attributes_data:\n",
    "    print '<<Set {}>>'.format(n)\n",
    "    vif_cal(input_data=i, dependent_col=\"Price\")\n",
    "    n += 1\n",
    "    print\n",
    "    print"
   ]
  },
  {
   "cell_type": "code",
   "execution_count": null,
   "metadata": {
    "collapsed": true,
    "scrolled": false
   },
   "outputs": [],
   "source": [
    "corolla_pick = corolla[['Price', 'Age_08_04', 'KM', 'HP', 'Quarterly_Tax', 'Weight', 'ABS', 'Automatic_airco', 'Powered_Windows']]\n",
    "model = sm.ols(\"Price ~ Age_08_04 + KM + HP + Quarterly_Tax + Weight + ABS + Automatic_airco + Powered_Windows\", corolla_pick).fit()\n",
    "print model.summary()"
   ]
  },
  {
   "cell_type": "code",
   "execution_count": null,
   "metadata": {
    "collapsed": true
   },
   "outputs": [],
   "source": [
    "corolla_predict = (corolla_pick\n",
    "                  .assign(Predict = lambda x: 4116.5320 + ((-117.1713) * x.Age_08_04) \n",
    "                          + ((-0.0185) * x.KM) \n",
    "                          + ((24.2757) * x.HP) \n",
    "                          + ((6.1064) * x.Quarterly_Tax) \n",
    "                          + ((10.4946) * x.Weight) \n",
    "                          + ((-302.3014) * x.ABS) \n",
    "                          + ((2570.0265) * x.Automatic_airco) \n",
    "                          + ((524.5258) * x.Powered_Windows)))\n",
    "\n",
    "from matplotlib import pyplot as plt\n",
    "%matplotlib inline\n",
    "\n",
    "plt.scatter(x = corolla_predict['Price'], y = corolla_predict['Predict'])\n",
    "plt.ylabel('Predicted prices')\n",
    "plt.xlabel('Prices')\n",
    "plt.title(\"Pices vs Predicted Prices\")"
   ]
  },
  {
   "cell_type": "markdown",
   "metadata": {
    "collapsed": true
   },
   "source": [
    "# Summary"
   ]
  },
  {
   "cell_type": "markdown",
   "metadata": {
    "collapsed": true
   },
   "source": [
    "의의\n",
    "    - 통계학, 파이썬, 머신러닝을 배우면서 각각의 방법론을 적용해볼 수 있었다.\n",
    "    - 무슨 차이가 발생하는지 체험할 수 있는 시간이었음\n",
    "    - 단순히 변수가 많은 것보다 좋은 변수를 적절히 선정하는 것의 중요성을 알 수 있었다.\n",
    "    - 회귀분석의 절차가 어떻게 이뤄지는 지 알 수 있었다\n",
    "    - 체계적인 파일 관리의 중요성을 알 수 있었다\n",
    "    \n",
    "아쉬운 점\n",
    "    - 이상치를 어떻게 처리할 지 시도를 여러번 했으나, 결국 raw data 그대로 진행\n",
    "    - 여러 방법론을 적용해볼 수 있었지만, 그만큼 혼동될 때가 많았다\n",
    "    "
   ]
  }
 ],
 "metadata": {
  "kernelspec": {
   "display_name": "Python 3",
   "language": "python",
   "name": "python3"
  },
  "language_info": {
   "codemirror_mode": {
    "name": "ipython",
    "version": 3
   },
   "file_extension": ".py",
   "mimetype": "text/x-python",
   "name": "python",
   "nbconvert_exporter": "python",
   "pygments_lexer": "ipython3",
   "version": "3.5.1"
  }
 },
 "nbformat": 4,
 "nbformat_minor": 2
}
